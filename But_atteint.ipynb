{
 "cells": [
  {
   "attachments": {},
   "cell_type": "markdown",
   "metadata": {},
   "source": [
    "### Travail à faire.\n",
    "\n",
    "Pour prédire si une personne a un cancer du sein ou non à l'aide d'un modèle de classification basé sur les données du fichier Breast_cancer_data.csv, Nous pouvons suivre les étapes suivantes:\n",
    "\n",
    "1. Préparons les données: Nous divisons les données en un ensemble d'apprentissage et un ensemble de test, en suite nous séparons les caractéristiques (mean_radius, mean_texture, mean_perimeter, mean_area et mean_smoothness) des étiquettes (diagnosis).\n",
    "\n",
    "2. Sélection du modèle: Nous choisissons un algorithme d'apprentissage automatique pour la classification, tel que la régression logistique, les forêts aléatoires ou les machines à vecteurs de support.\n",
    "\n",
    "3. Entraînement d'un modèle: Nous utilisons l'ensemble d'apprentissage pour entraîner le modèle en ajustant ses paramètres pour minimiser l'erreur de prédiction.\n",
    "\n",
    "4. Évaluation du modèle: Nous utilisons l'ensemble de test pour évaluer les performances du modèle en calculant des métriques telles que la précision, le rappel et le score F1.\n",
    "\n",
    "5. Utilisation du modèle: Une fois que nous avons un modèle bien entraîné et évalué, nous l'utilisons pour prédire si une nouvelle personne a un cancer du sein ou non en entrant ses caractéristiques dans le modèle et en obtenant une prédiction.\n",
    "### NB: la qualité des données et la sélection des caractéristiques peuvent avoir un impact significatif sur les performances du modèle. Nous pouvons également utiliser des techniques telles que la validation croisée et la sélection de modèles pour améliorer les performances de notre modèle."
   ]
  },
  {
   "attachments": {},
   "cell_type": "markdown",
   "metadata": {},
   "source": [
    "# Les beneficière de la prédiction:\n",
    "### Plusieurs parties peuvent bénéficier de la classification des patients en personnes atteintes du cancer et personnes non atteintes du cancer. Voici quelques exemples:\n",
    "\n",
    "- **Les patients**: Les patients peuvent bénéficier d'un diagnostic rapide et précis de leur état de santé. Si un patient est prédit comme étant atteint du cancer, il peut recevoir un traitement rapidement pour augmenter ses chances de guérison. Si un patient est prédit comme étant non atteint du cancer, il peut éviter des tests médicaux inutiles et coûteux.\n",
    "\n",
    "- **Les médecins**: Les médecins peuvent utiliser les prédictions du modèle pour aider à diagnostiquer les patients. Cela peut leur faire gagner du temps et leur permettre de se concentrer sur les cas les plus complexes. Les médecins peuvent également utiliser les prédictions du modèle pour identifier les patients à haut risque et leur proposer des programmes de dépistage et de prévention.\n",
    "\n",
    "- **Les chercheurs**: Les chercheurs peuvent utiliser les prédictions du modèle pour identifier les facteurs de risque et les biomarqueurs associés au cancer. Cela peut aider à développer de nouvelles méthodes de prévention et de traitement de la maladie.\n",
    "\n",
    "- **Les hôpitaux et les cliniques**: Les hôpitaux et les cliniques peuvent utiliser les prédictions du modèle pour améliorer la gestion des soins de santé. En identifiant les patients à haut risque, ils peuvent mettre en place des programmes de dépistage et de prévention pour réduire l'incidence de la maladie. Cela peut également aider à réduire les coûts des soins de santé en évitant des traitements coûteux pour les patients atteints du cancer.\n",
    "\n",
    "En résumé, la classification des patients en personnes atteintes du cancer et personnes non atteintes du cancer peut bénéficier aux patients, aux médecins, aux chercheurs et aux hôpitaux et cliniques."
   ]
  },
  {
   "attachments": {},
   "cell_type": "markdown",
   "metadata": {},
   "source": [
    "# Objectif de la prediction\n",
    "## Les objectifs de la prédiction de la classification des personnes atteintes du cancer et celles qui ne sont pas atteintes peuvent varier en fonction du contexte. Voici quelques exemples d'objectifs communs:\n",
    "\n",
    "- **Améliorer le diagnostic des patients**: L'un des principaux objectifs de la prédiction de la classification des personnes atteintes du cancer et celles qui ne sont pas atteintes est d'aider les médecins à diagnostiquer les patients plus rapidement et avec plus de précision. En utilisant un modèle d'apprentissage automatique entraîné sur des données historiques, les médecins peuvent obtenir une prédiction rapide et fiable de l'état de santé d'un patient en se basant sur ses caractéristiques médicales.\n",
    "\n",
    "- **Identifier les facteurs de risque**: La prédiction de la classification des personnes atteintes du cancer et celles qui ne sont pas atteintes peut également être utilisée pour identifier les facteurs de risque associés à la maladie. En analysant les caractéristiques des patients qui sont prédits comme étant atteints du cancer, les chercheurs peuvent identifier les facteurs qui augmentent le risque de développer la maladie. Cela peut aider à développer des stratégies de prévention pour réduire l'incidence du cancer.\n",
    "\n",
    "- **Améliorer la gestion des soins de santé**: La prédiction de la classification des personnes atteintes du cancer et celles qui ne sont pas atteintes peut également être utilisée pour améliorer la gestion des soins de santé. En identifiant les patients à haut risque de développer un cancer, les hôpitaux et les cliniques peuvent mettre en place des programmes de dépistage et de prévention pour réduire l'incidence de la maladie. Cela peut également aider à réduire les coûts des soins de santé en évitant des traitements coûteux pour les patients atteints du cancer.\n",
    "\n",
    "En résumé, les objectifs de la prédiction de la classification des personnes atteintes du cancer et celles qui ne sont pas atteintes peuvent inclure l'amélioration du diagnostic des patients, l'identification des facteurs de risque et l'amélioration de la gestion des soins de santé."
   ]
  },
  {
   "attachments": {},
   "cell_type": "markdown",
   "metadata": {},
   "source": [
    "# Concretisation du projet:\n",
    "Voici les étapes générales à suivre pour prédire la classification des personnes saines et des personnes malades en utilisant l'apprentissage automatique:\n",
    "\n",
    "1. **Collecte des données**: La première étape consiste à collecter des données sur les patients, y compris leurs caractéristiques médicales et leur diagnostic (sain ou malade). Ces données peuvent provenir de dossiers médicaux, d'études cliniques ou d'autres sources.\n",
    "\n",
    "2. **Préparation des données**: Les données collectées doivent être préparées pour l'apprentissage automatique. Cela peut inclure la suppression des données manquantes ou erronées, la conversion des données en un format numérique et la normalisation des valeurs des caractéristiques.\n",
    "\n",
    "3. **Sélection des caractéristiques**: La sélection des caractéristiques consiste à choisir les caractéristiques les plus pertinentes pour la prédiction de la classification des patients. Cela peut être fait en utilisant des techniques de sélection de caractéristiques telles que l'analyse en composantes principales (PCA) ou en évaluant l'importance des caractéristiques en utilisant un modèle d'apprentissage automatique.\n",
    "\n",
    "4. **Division des données**: Les données préparées doivent être divisées en un ensemble d'apprentissage et un ensemble de test. L'ensemble d'apprentissage est utilisé pour entraîner le modèle d'apprentissage automatique, tandis que l'ensemble de test est utilisé pour évaluer les performances du modèle.\n",
    "\n",
    "5. **Entraînement du modèle**: Un modèle d'apprentissage automatique doit être choisi et entraîné sur l'ensemble d'apprentissage. Le choix du modèle dépend de la nature des données et de l'objectif de la prédiction. Des exemples de modèles populaires incluent la régression logistique, les forêts aléatoires et les réseaux de neurones.\n",
    "\n",
    "6. **Évaluation du modèle**: Les performances du modèle entraîné doivent être évaluées sur l'ensemble de test en utilisant une métrique appropriée telle que l'exactitude ou l'aire sous la courbe ROC (AUC). Si les performances du modèle ne sont pas satisfaisantes, il peut être nécessaire de revenir aux étapes précédentes pour améliorer les données, sélectionner d'autres caractéristiques ou choisir un autre modèle.\n",
    "\n",
    "7. **Utilisation du modèle**: Une fois que le modèle a été entraîné et évalué, il peut être utilisé pour prédire la classification des nouveaux patients en personnes saines ou malades en se basant sur leurs caractéristiques médicales.\n",
    "\n",
    "Ces étapes fournissent un aperçu général du processus de prédiction de la classification des personnes saines et malades en utilisant l'apprentissage automatique. Les détails spécifiques peuvent varier en fonction des données disponibles et de l'objectif de la prédiction."
   ]
  },
  {
   "attachments": {},
   "cell_type": "markdown",
   "metadata": {},
   "source": [
    "## Voici nos variacbles:\n",
    "\n",
    " *  mean_radius\n",
    " *\tmean_texture\n",
    " *\tmean_perimeter\n",
    " *\tmean_area\n",
    " *\tmean_smoothness\n",
    " *\tdiagnosis\n",
    " \n",
    " On se base sur:  (diagnosis) pour prédire la classification des personnes saines de personnes atteintes."
   ]
  },
  {
   "attachments": {},
   "cell_type": "markdown",
   "metadata": {},
   "source": [
    " **1 Importation de differentes bibliothèques**"
   ]
  },
  {
   "cell_type": "code",
   "execution_count": 2,
   "metadata": {},
   "outputs": [],
   "source": [
    "#Importation de differentes bibliothèques\n",
    "import pandas as pd\n",
    "import numpy as np\n",
    "import matplotlib.pyplot as plt\n",
    "from mpl_toolkits.mplot3d import Axes3D\n",
    "import seaborn as sns\n",
    "from seaborn.axisgrid import plt\n",
    "from sklearn.model_selection import GridSearchCV\n",
    "from sklearn.svm import SVC\n",
    "from sklearn.metrics import accuracy_score\n",
    "from sklearn.model_selection import train_test_split\n",
    "from sklearn.linear_model import LogisticRegression\n",
    "from sklearn.metrics import mean_squared_error, mean_absolute_error, r2_score,accuracy_score, recall_score, f1_score\n",
    "from sklearn.metrics import accuracy_score\n"
   ]
  },
  {
   "attachments": {},
   "cell_type": "markdown",
   "metadata": {},
   "source": [
    "**Comme on a nos données on importe seulement**"
   ]
  },
  {
   "cell_type": "code",
   "execution_count": 29,
   "metadata": {},
   "outputs": [],
   "source": [
    "# Lire les données\n",
    "def read_data(file_path):\n",
    "    data = pd.read_csv(file_path)\n",
    "    return data\n",
    "data = read_data('Breast_cancer_data.csv')"
   ]
  },
  {
   "cell_type": "code",
   "execution_count": 4,
   "metadata": {},
   "outputs": [
    {
     "name": "stdout",
     "output_type": "stream",
     "text": [
      "<class 'pandas.core.frame.DataFrame'>\n",
      "RangeIndex: 569 entries, 0 to 568\n",
      "Data columns (total 6 columns):\n",
      " #   Column           Non-Null Count  Dtype  \n",
      "---  ------           --------------  -----  \n",
      " 0   mean_radius      569 non-null    float64\n",
      " 1   mean_texture     569 non-null    float64\n",
      " 2   mean_perimeter   569 non-null    float64\n",
      " 3   mean_area        569 non-null    float64\n",
      " 4   mean_smoothness  569 non-null    float64\n",
      " 5   diagnosis        569 non-null    int64  \n",
      "dtypes: float64(5), int64(1)\n",
      "memory usage: 26.8 KB\n"
     ]
    }
   ],
   "source": [
    "# On s'informede la quantité et la qualité de données\n",
    "data.info()"
   ]
  },
  {
   "cell_type": "code",
   "execution_count": 5,
   "metadata": {},
   "outputs": [
    {
     "data": {
      "text/html": [
       "<div>\n",
       "<style scoped>\n",
       "    .dataframe tbody tr th:only-of-type {\n",
       "        vertical-align: middle;\n",
       "    }\n",
       "\n",
       "    .dataframe tbody tr th {\n",
       "        vertical-align: top;\n",
       "    }\n",
       "\n",
       "    .dataframe thead th {\n",
       "        text-align: right;\n",
       "    }\n",
       "</style>\n",
       "<table border=\"1\" class=\"dataframe\">\n",
       "  <thead>\n",
       "    <tr style=\"text-align: right;\">\n",
       "      <th></th>\n",
       "      <th>mean_radius</th>\n",
       "      <th>mean_texture</th>\n",
       "      <th>mean_perimeter</th>\n",
       "      <th>mean_area</th>\n",
       "      <th>mean_smoothness</th>\n",
       "      <th>diagnosis</th>\n",
       "    </tr>\n",
       "  </thead>\n",
       "  <tbody>\n",
       "    <tr>\n",
       "      <th>0</th>\n",
       "      <td>17.99</td>\n",
       "      <td>10.38</td>\n",
       "      <td>122.80</td>\n",
       "      <td>1001.0</td>\n",
       "      <td>0.11840</td>\n",
       "      <td>0</td>\n",
       "    </tr>\n",
       "    <tr>\n",
       "      <th>1</th>\n",
       "      <td>20.57</td>\n",
       "      <td>17.77</td>\n",
       "      <td>132.90</td>\n",
       "      <td>1326.0</td>\n",
       "      <td>0.08474</td>\n",
       "      <td>0</td>\n",
       "    </tr>\n",
       "    <tr>\n",
       "      <th>2</th>\n",
       "      <td>19.69</td>\n",
       "      <td>21.25</td>\n",
       "      <td>130.00</td>\n",
       "      <td>1203.0</td>\n",
       "      <td>0.10960</td>\n",
       "      <td>0</td>\n",
       "    </tr>\n",
       "    <tr>\n",
       "      <th>3</th>\n",
       "      <td>11.42</td>\n",
       "      <td>20.38</td>\n",
       "      <td>77.58</td>\n",
       "      <td>386.1</td>\n",
       "      <td>0.14250</td>\n",
       "      <td>0</td>\n",
       "    </tr>\n",
       "    <tr>\n",
       "      <th>4</th>\n",
       "      <td>20.29</td>\n",
       "      <td>14.34</td>\n",
       "      <td>135.10</td>\n",
       "      <td>1297.0</td>\n",
       "      <td>0.10030</td>\n",
       "      <td>0</td>\n",
       "    </tr>\n",
       "  </tbody>\n",
       "</table>\n",
       "</div>"
      ],
      "text/plain": [
       "   mean_radius  mean_texture  mean_perimeter  mean_area  mean_smoothness  \\\n",
       "0        17.99         10.38          122.80     1001.0          0.11840   \n",
       "1        20.57         17.77          132.90     1326.0          0.08474   \n",
       "2        19.69         21.25          130.00     1203.0          0.10960   \n",
       "3        11.42         20.38           77.58      386.1          0.14250   \n",
       "4        20.29         14.34          135.10     1297.0          0.10030   \n",
       "\n",
       "   diagnosis  \n",
       "0          0  \n",
       "1          0  \n",
       "2          0  \n",
       "3          0  \n",
       "4          0  "
      ]
     },
     "execution_count": 5,
     "metadata": {},
     "output_type": "execute_result"
    }
   ],
   "source": [
    "#On affiche nos données pour voire leurs structures exate.\n",
    "data.head()"
   ]
  },
  {
   "cell_type": "code",
   "execution_count": 6,
   "metadata": {},
   "outputs": [
    {
     "data": {
      "text/plain": [
       "mean_radius        0\n",
       "mean_texture       0\n",
       "mean_perimeter     0\n",
       "mean_area          0\n",
       "mean_smoothness    0\n",
       "diagnosis          0\n",
       "dtype: int64"
      ]
     },
     "execution_count": 6,
     "metadata": {},
     "output_type": "execute_result"
    }
   ],
   "source": [
    "#verification des valeurs de manquantes si elle existent\n",
    "data.isna().sum()"
   ]
  },
  {
   "cell_type": "code",
   "execution_count": 7,
   "metadata": {},
   "outputs": [
    {
     "name": "stdout",
     "output_type": "stream",
     "text": [
      "     mean_radius  mean_texture  mean_perimeter  mean_area  mean_smoothness  \\\n",
      "82        25.220         24.91          171.50     1878.0          0.10630   \n",
      "108       22.270         19.67          152.80     1509.0          0.13260   \n",
      "122       24.250         20.20          166.20     1761.0          0.14470   \n",
      "164       23.270         22.04          152.10     1686.0          0.08439   \n",
      "180       27.220         21.87          182.10     2250.0          0.10940   \n",
      "202       23.290         26.67          158.90     1685.0          0.11410   \n",
      "212       28.110         18.47          188.50     2499.0          0.11420   \n",
      "236       23.210         26.97          153.50     1670.0          0.09509   \n",
      "339       23.510         24.27          155.10     1747.0          0.10690   \n",
      "352       25.730         17.46          174.20     2010.0          0.11490   \n",
      "369       22.010         21.90          147.20     1482.0          0.10630   \n",
      "461       27.420         26.27          186.90     2501.0          0.10840   \n",
      "503       23.090         19.83          152.10     1682.0          0.09342   \n",
      "521       24.630         21.60          165.50     1841.0          0.10300   \n",
      "219       19.530         32.47          128.00     1223.0          0.08420   \n",
      "232       11.220         33.81           70.79      386.8          0.07780   \n",
      "239       17.460         39.28          113.40      920.6          0.09812   \n",
      "259       15.530         33.56          103.70      744.9          0.10630   \n",
      "265       20.730         31.12          135.70     1419.0          0.09469   \n",
      "455       13.380         30.72           86.34      557.2          0.09245   \n",
      "562       15.220         30.62          103.40      716.9          0.10480   \n",
      "23        21.160         23.04          137.20     1404.0          0.09428   \n",
      "250       20.940         23.56          138.90     1364.0          0.10070   \n",
      "272       21.750         20.99          147.30     1491.0          0.09401   \n",
      "368       21.710         17.25          140.90     1546.0          0.09384   \n",
      "372       21.370         15.10          141.30     1386.0          0.10010   \n",
      "373       20.640         17.35          134.80     1335.0          0.09446   \n",
      "393       21.610         22.28          144.40     1407.0          0.11670   \n",
      "449       21.100         20.52          138.10     1384.0          0.09684   \n",
      "563       20.920         25.09          143.00     1347.0          0.10990   \n",
      "564       21.560         22.39          142.00     1479.0          0.11100   \n",
      "3         11.420         20.38           77.58      386.1          0.14250   \n",
      "105       13.110         15.56           87.21      530.2          0.13980   \n",
      "504        9.268         12.87           61.49      248.7          0.16340   \n",
      "520        9.295         13.90           59.96      257.8          0.13710   \n",
      "568        7.760         24.54           47.92      181.0          0.05263   \n",
      "\n",
      "    diagnosis  \n",
      "82          0  \n",
      "108         0  \n",
      "122         0  \n",
      "164         0  \n",
      "180         0  \n",
      "202         0  \n",
      "212         0  \n",
      "236         0  \n",
      "339         0  \n",
      "352         0  \n",
      "369         0  \n",
      "461         0  \n",
      "503         0  \n",
      "521         0  \n",
      "219         0  \n",
      "232         1  \n",
      "239         0  \n",
      "259         0  \n",
      "265         0  \n",
      "455         1  \n",
      "562         0  \n",
      "23          0  \n",
      "250         0  \n",
      "272         0  \n",
      "368         0  \n",
      "372         0  \n",
      "373         0  \n",
      "393         0  \n",
      "449         0  \n",
      "563         0  \n",
      "564         0  \n",
      "3           0  \n",
      "105         0  \n",
      "504         1  \n",
      "520         1  \n",
      "568         1  \n"
     ]
    }
   ],
   "source": [
    "# verifions voir s'il existe des valeures aberrantes\n",
    "def find_outliers(data):\n",
    "    outliers = pd.DataFrame(columns=data.columns)\n",
    "    for col in data.select_dtypes(include=['float64', 'int64']).columns:\n",
    "        Q1 = data[col].quantile(0.25)\n",
    "        Q3 = data[col].quantile(0.75)\n",
    "        IQR = Q3 - Q1\n",
    "        lower_bound = Q1 - 1.5 * IQR\n",
    "        upper_bound = Q3 + 1.5 * IQR\n",
    "        col_outliers = data[(data[col] < lower_bound) | (data[col] > upper_bound)]\n",
    "        outliers = pd.concat([outliers, col_outliers], axis=0)\n",
    "    return outliers.drop_duplicates()\n",
    "\n",
    "outliers = find_outliers(data)\n",
    "print(outliers)"
   ]
  },
  {
   "cell_type": "code",
   "execution_count": 8,
   "metadata": {},
   "outputs": [
    {
     "name": "stdout",
     "output_type": "stream",
     "text": [
      "Nombre de lignes contenant des valeurs aberrantes :36\n",
      "Nombre de colonne contenant des valeurs aberrantes : 216\n"
     ]
    }
   ],
   "source": [
    "num_outlier_rows = outliers.shape[0]\n",
    "num_outlier_cols = outliers.count().sum()\n",
    "\n",
    "print(f'Nombre de lignes contenant des valeurs aberrantes :{num_outlier_rows}')\n",
    "print(f'Nombre de colonne contenant des valeurs aberrantes : {num_outlier_cols}')"
   ]
  },
  {
   "attachments": {},
   "cell_type": "markdown",
   "metadata": {},
   "source": [
    "## Corrigeons les valeures aberrantes"
   ]
  },
  {
   "cell_type": "code",
   "execution_count": 9,
   "metadata": {},
   "outputs": [
    {
     "data": {
      "text/html": [
       "<div>\n",
       "<style scoped>\n",
       "    .dataframe tbody tr th:only-of-type {\n",
       "        vertical-align: middle;\n",
       "    }\n",
       "\n",
       "    .dataframe tbody tr th {\n",
       "        vertical-align: top;\n",
       "    }\n",
       "\n",
       "    .dataframe thead th {\n",
       "        text-align: right;\n",
       "    }\n",
       "</style>\n",
       "<table border=\"1\" class=\"dataframe\">\n",
       "  <thead>\n",
       "    <tr style=\"text-align: right;\">\n",
       "      <th></th>\n",
       "      <th>mean_radius</th>\n",
       "      <th>mean_texture</th>\n",
       "      <th>mean_perimeter</th>\n",
       "      <th>mean_area</th>\n",
       "      <th>mean_smoothness</th>\n",
       "      <th>diagnosis</th>\n",
       "    </tr>\n",
       "  </thead>\n",
       "  <tbody>\n",
       "    <tr>\n",
       "      <th>0</th>\n",
       "      <td>17.99</td>\n",
       "      <td>10.38</td>\n",
       "      <td>122.80</td>\n",
       "      <td>16.07</td>\n",
       "      <td>0.11840</td>\n",
       "      <td>0</td>\n",
       "    </tr>\n",
       "    <tr>\n",
       "      <th>1</th>\n",
       "      <td>20.57</td>\n",
       "      <td>17.77</td>\n",
       "      <td>132.90</td>\n",
       "      <td>16.07</td>\n",
       "      <td>0.08474</td>\n",
       "      <td>0</td>\n",
       "    </tr>\n",
       "    <tr>\n",
       "      <th>2</th>\n",
       "      <td>19.69</td>\n",
       "      <td>21.25</td>\n",
       "      <td>130.00</td>\n",
       "      <td>16.07</td>\n",
       "      <td>0.10960</td>\n",
       "      <td>0</td>\n",
       "    </tr>\n",
       "    <tr>\n",
       "      <th>3</th>\n",
       "      <td>11.42</td>\n",
       "      <td>20.38</td>\n",
       "      <td>77.58</td>\n",
       "      <td>16.07</td>\n",
       "      <td>0.14250</td>\n",
       "      <td>0</td>\n",
       "    </tr>\n",
       "    <tr>\n",
       "      <th>4</th>\n",
       "      <td>20.29</td>\n",
       "      <td>14.34</td>\n",
       "      <td>135.10</td>\n",
       "      <td>16.07</td>\n",
       "      <td>0.10030</td>\n",
       "      <td>0</td>\n",
       "    </tr>\n",
       "    <tr>\n",
       "      <th>...</th>\n",
       "      <td>...</td>\n",
       "      <td>...</td>\n",
       "      <td>...</td>\n",
       "      <td>...</td>\n",
       "      <td>...</td>\n",
       "      <td>...</td>\n",
       "    </tr>\n",
       "    <tr>\n",
       "      <th>564</th>\n",
       "      <td>21.56</td>\n",
       "      <td>22.39</td>\n",
       "      <td>142.00</td>\n",
       "      <td>16.07</td>\n",
       "      <td>0.11100</td>\n",
       "      <td>0</td>\n",
       "    </tr>\n",
       "    <tr>\n",
       "      <th>565</th>\n",
       "      <td>20.13</td>\n",
       "      <td>28.25</td>\n",
       "      <td>131.20</td>\n",
       "      <td>16.07</td>\n",
       "      <td>0.09780</td>\n",
       "      <td>0</td>\n",
       "    </tr>\n",
       "    <tr>\n",
       "      <th>566</th>\n",
       "      <td>16.60</td>\n",
       "      <td>28.08</td>\n",
       "      <td>108.30</td>\n",
       "      <td>16.07</td>\n",
       "      <td>0.08455</td>\n",
       "      <td>0</td>\n",
       "    </tr>\n",
       "    <tr>\n",
       "      <th>567</th>\n",
       "      <td>20.60</td>\n",
       "      <td>29.33</td>\n",
       "      <td>140.10</td>\n",
       "      <td>16.07</td>\n",
       "      <td>0.11780</td>\n",
       "      <td>0</td>\n",
       "    </tr>\n",
       "    <tr>\n",
       "      <th>568</th>\n",
       "      <td>7.76</td>\n",
       "      <td>24.54</td>\n",
       "      <td>47.92</td>\n",
       "      <td>181.00</td>\n",
       "      <td>0.05263</td>\n",
       "      <td>1</td>\n",
       "    </tr>\n",
       "  </tbody>\n",
       "</table>\n",
       "<p>569 rows × 6 columns</p>\n",
       "</div>"
      ],
      "text/plain": [
       "     mean_radius  mean_texture  mean_perimeter  mean_area  mean_smoothness  \\\n",
       "0          17.99         10.38          122.80      16.07          0.11840   \n",
       "1          20.57         17.77          132.90      16.07          0.08474   \n",
       "2          19.69         21.25          130.00      16.07          0.10960   \n",
       "3          11.42         20.38           77.58      16.07          0.14250   \n",
       "4          20.29         14.34          135.10      16.07          0.10030   \n",
       "..           ...           ...             ...        ...              ...   \n",
       "564        21.56         22.39          142.00      16.07          0.11100   \n",
       "565        20.13         28.25          131.20      16.07          0.09780   \n",
       "566        16.60         28.08          108.30      16.07          0.08455   \n",
       "567        20.60         29.33          140.10      16.07          0.11780   \n",
       "568         7.76         24.54           47.92     181.00          0.05263   \n",
       "\n",
       "     diagnosis  \n",
       "0            0  \n",
       "1            0  \n",
       "2            0  \n",
       "3            0  \n",
       "4            0  \n",
       "..         ...  \n",
       "564          0  \n",
       "565          0  \n",
       "566          0  \n",
       "567          0  \n",
       "568          1  \n",
       "\n",
       "[569 rows x 6 columns]"
      ]
     },
     "execution_count": 9,
     "metadata": {},
     "output_type": "execute_result"
    }
   ],
   "source": [
    "#Corrigeons les valeures aberrntes\n",
    "def remove_outliers(data):\n",
    "    # Calculer le premier et le troisième quartile\n",
    "    Q1 = np.percentile(data, 25)\n",
    "    Q3 = np.percentile(data, 75)\n",
    "    \n",
    "    # Calculer l'écart interquartile (IQR)\n",
    "    IQR = Q3 - Q1\n",
    "    \n",
    "    # Définir la limite inférieure et supérieure pour détecter les valeurs aberrantes\n",
    "    lower_bound = Q1 - 1.5 * IQR\n",
    "    upper_bound = Q3 + 1.5 * IQR\n",
    "    \n",
    "    # Remplacer les valeurs aberrantes par la médiane\n",
    "    data[data < lower_bound] = np.median(data)\n",
    "    data[data > upper_bound] = np.median(data)\n",
    "    \n",
    "    return data\n",
    "data = remove_outliers(data)\n",
    "data"
   ]
  },
  {
   "attachments": {},
   "cell_type": "markdown",
   "metadata": {},
   "source": [
    "## Ullustration des fréquences relatives des différentes valeurs de la colonne diagnosis dans le dataframe data"
   ]
  },
  {
   "cell_type": "code",
   "execution_count": 10,
   "metadata": {},
   "outputs": [
    {
     "data": {
      "text/plain": [
       "1    0.627417\n",
       "0    0.372583\n",
       "Name: diagnosis, dtype: float64"
      ]
     },
     "execution_count": 10,
     "metadata": {},
     "output_type": "execute_result"
    }
   ],
   "source": [
    "#les fréquences relatives des différentes valeurs de la colonne diagnosis dans le dataframe data\n",
    "data[\"diagnosis\"].value_counts(normalize=True)"
   ]
  },
  {
   "attachments": {},
   "cell_type": "markdown",
   "metadata": {},
   "source": [
    "D'après le resultat de la frequence rélative sur les données du colonne diagnosis, on constate que le nombres des personnes atteintes du cancer est plus importantes que celles qui ne sont pas etteintes."
   ]
  },
  {
   "attachments": {},
   "cell_type": "markdown",
   "metadata": {},
   "source": [
    "## Analyse exploratoire de donnés"
   ]
  },
  {
   "cell_type": "code",
   "execution_count": 11,
   "metadata": {},
   "outputs": [
    {
     "name": "stdout",
     "output_type": "stream",
     "text": [
      "       mean_radius  mean_texture  mean_perimeter   mean_area  mean_smoothness  \\\n",
      "count   569.000000    569.000000      569.000000  569.000000       569.000000   \n",
      "mean     14.127292     19.289649       91.969033   17.797733         0.096360   \n",
      "std       3.524049      4.301036       24.298981   16.880562         0.014064   \n",
      "min       6.981000      9.710000       43.790000   16.070000         0.052630   \n",
      "25%      11.700000     16.170000       75.170000   16.070000         0.086370   \n",
      "50%      13.370000     18.840000       86.240000   16.070000         0.095870   \n",
      "75%      15.780000     21.800000      104.100000   16.070000         0.105300   \n",
      "max      28.110000     39.280000      188.500000  203.900000         0.163400   \n",
      "\n",
      "        diagnosis  \n",
      "count  569.000000  \n",
      "mean     0.627417  \n",
      "std      0.483918  \n",
      "min      0.000000  \n",
      "25%      0.000000  \n",
      "50%      1.000000  \n",
      "75%      1.000000  \n",
      "max      1.000000  \n"
     ]
    }
   ],
   "source": [
    "def describe_data(data):\n",
    "    print(data.describe())\n",
    "describe_data(data)"
   ]
  },
  {
   "attachments": {},
   "cell_type": "markdown",
   "metadata": {},
   "source": [
    "## Visualisation de données"
   ]
  },
  {
   "cell_type": "code",
   "execution_count": 12,
   "metadata": {},
   "outputs": [
    {
     "data": {
      "image/png": "[encoded data removed]",
      "text/plain": [
       "<Figure size 1000x300 with 1 Axes>"
      ]
     },
     "metadata": {},
     "output_type": "display_data"
    }
   ],
   "source": [
    "# Visualisation des données\n",
    "def plot_data(data):\n",
    "    sns.barplot(data)\n",
    "    \n",
    "plt.figure(figsize=(10,3))\n",
    "plt.title(\"Les données concernant les personne malade et nonmalades\")\n",
    "plot_data(data)\n",
    "plt.show()"
   ]
  },
  {
   "attachments": {},
   "cell_type": "markdown",
   "metadata": {},
   "source": [
    "## Divisons les données en un ensemble d'entraînement et de test pour les entraînerdans un modèle et les prédire"
   ]
  },
  {
   "cell_type": "code",
   "execution_count": 13,
   "metadata": {},
   "outputs": [],
   "source": [
    "#Divisons les données en un ensemble d'entraînement et un ensemble de test\n",
    "def split_data(data, target_column, test_size=0.2):\n",
    "    X = data.drop(target_column, axis=1)\n",
    "    y = data[target_column]\n",
    "    X_train, X_test, y_train, y_test = train_test_split(X, y, test_size=test_size)\n",
    "    return X_train, X_test, y_train, y_test"
   ]
  },
  {
   "cell_type": "code",
   "execution_count": 14,
   "metadata": {},
   "outputs": [],
   "source": [
    "#Appelle de lafonction split_data\n",
    "X_train, X_test, y_train, y_test = split_data(data, 'diagnosis', test_size=0.3)"
   ]
  },
  {
   "attachments": {},
   "cell_type": "markdown",
   "metadata": {},
   "source": [
    "## Entraînement du modele de regression logistique pour permettre la prédiction"
   ]
  },
  {
   "cell_type": "code",
   "execution_count": 15,
   "metadata": {},
   "outputs": [],
   "source": [
    "def train_logistic_regression_model(X_train, y_train):\n",
    "    model = LogisticRegression()\n",
    "    model.fit(X_train, y_train)\n",
    "    return model"
   ]
  },
  {
   "cell_type": "code",
   "execution_count": 16,
   "metadata": {},
   "outputs": [],
   "source": [
    "#Appelle de la fonction train\n",
    "model = train_logistic_regression_model(X_train, y_train)"
   ]
  },
  {
   "cell_type": "code",
   "execution_count": 17,
   "metadata": {},
   "outputs": [],
   "source": [
    "# On entraîne et on teste le modèle par rapport aux données entraînées\n",
    "def Evaluation_modele(model, X_train, X_test, y_train, y_test):\n",
    "    train_score = model.score(X_train, y_train)\n",
    "    test_score = model.score(X_test, y_test)\n",
    "    return train_score, test_score"
   ]
  },
  {
   "cell_type": "code",
   "execution_count": 18,
   "metadata": {},
   "outputs": [],
   "source": [
    "#Appelle de la fonction Evaluation\n",
    "train_score, test_score = Evaluation_modele(model, X_train, X_test, y_train, y_test)"
   ]
  },
  {
   "cell_type": "code",
   "execution_count": 19,
   "metadata": {},
   "outputs": [
    {
     "name": "stdout",
     "output_type": "stream",
     "text": [
      "Le score d’entraînement du modèle est: 0.907035175879397\n",
      "Le score de test du modèle est: 0.9239766081871345\n"
     ]
    }
   ],
   "source": [
    "print(f'Le score d’entraînement du modèle est: {train_score}')\n",
    "print(f'Le score de test du modèle est: {test_score}')"
   ]
  },
  {
   "attachments": {},
   "cell_type": "markdown",
   "metadata": {},
   "source": [
    "## On essaie de predire par rapport aux resultats du test"
   ]
  },
  {
   "cell_type": "code",
   "execution_count": 20,
   "metadata": {},
   "outputs": [],
   "source": [
    "#On predit par rapport au modèle\n",
    "y_pred = model.predict(X_test)"
   ]
  },
  {
   "attachments": {},
   "cell_type": "markdown",
   "metadata": {},
   "source": [
    "## Testons de plusieurs manières les performences du modèle"
   ]
  },
  {
   "cell_type": "code",
   "execution_count": 21,
   "metadata": {},
   "outputs": [
    {
     "name": "stdout",
     "output_type": "stream",
     "text": [
      "La précision: 0.92\n",
      "Le rappel: 0.95\n",
      "Le score F1: 0.94\n"
     ]
    }
   ],
   "source": [
    "# On teste les performences par rapport au model de differentes manières\n",
    "précision = accuracy_score(y_test, y_pred)\n",
    "rappel = recall_score(y_test, y_pred)\n",
    "score_F1 = f1_score(y_test, y_pred)\n",
    "print(f'La précision: {précision:.2f}')\n",
    "print(f'Le rappel: {rappel:.2f}')\n",
    "print(f'Le score F1: {score_F1:.2f}')\n"
   ]
  },
  {
   "attachments": {},
   "cell_type": "markdown",
   "metadata": {},
   "source": [
    "D’après les résultats que ce code a fourni, il semble que le modèle ait de bonnes performances sur les données de test. La précision de 0.94 indique que le modèle a correctement classé 94% des observations. Le rappel de 0.97 indique que le modèle a correctement identifié 97% des observations positives. Le score F1, qui est une moyenne harmonique de la précision et du rappel, est de 0.95, ce qui indique que le modèle a un bon équilibre entre la précision et le rappel.\n",
    "**Néanmoins, les résultats varient à chaque execution**"
   ]
  },
  {
   "attachments": {},
   "cell_type": "markdown",
   "metadata": {},
   "source": [
    "## Cherchons à classer par un graphe le nombre des personne malades et non malade"
   ]
  },
  {
   "cell_type": "code",
   "execution_count": 22,
   "metadata": {},
   "outputs": [],
   "source": [
    "# Compter le nombre de patients sains et malades\n",
    "healthy_count = (y_pred == 0).sum()\n",
    "cancer_count = (y_pred == 1).sum()\n"
   ]
  },
  {
   "cell_type": "code",
   "execution_count": 23,
   "metadata": {},
   "outputs": [
    {
     "data": {
      "text/plain": [
       "Text(0.5, 1.0, \"Classification des pertients sous forme d'un diagramme circulaire\")"
      ]
     },
     "execution_count": 23,
     "metadata": {},
     "output_type": "execute_result"
    },
    {
     "data": {
      "image/png": "[encoded data removed]",
      "text/plain": [
       "<Figure size 640x480 with 1 Axes>"
      ]
     },
     "metadata": {},
     "output_type": "display_data"
    }
   ],
   "source": [
    "# Créer un diagramme circulaire\n",
    "plt.figure()\n",
    "plt.pie([healthy_count, cancer_count], labels=['Presonnes saines', 'Cancéreuses'], autopct='%1.1f%%')\n",
    "plt.title('Classification des patients sous forme d\\'un diagramme circulaire')"
   ]
  },
  {
   "attachments": {},
   "cell_type": "markdown",
   "metadata": {},
   "source": [
    "## On affiche en utilisant lesnuage des points"
   ]
  },
  {
   "cell_type": "code",
   "execution_count": 24,
   "metadata": {},
   "outputs": [
    {
     "data": {
      "image/png": "[encoded data removed]",
      "text/plain": [
       "<Figure size 640x480 with 1 Axes>"
      ]
     },
     "metadata": {},
     "output_type": "display_data"
    }
   ],
   "source": [
    "# Créer un nuage de points\n",
    "plt.figure()\n",
    "plt.scatter(X_test[y_pred == 0].iloc[:, 0], X_test[y_pred == 0].iloc[:, 1], label='Bonne santé')\n",
    "plt.scatter(X_test[y_pred == 1].iloc[:, 0], X_test[y_pred == 1].iloc[:, 1], label='Malade')\n",
    "plt.legend()\n",
    "plt.title('Classification des patients par un diagramme de nuage de points')\n",
    "plt.xlabel('Feature 1')\n",
    "plt.ylabel('Feature 2')\n",
    "\n",
    "plt.show()"
   ]
  },
  {
   "cell_type": "code",
   "execution_count": 25,
   "metadata": {},
   "outputs": [
    {
     "name": "stdout",
     "output_type": "stream",
     "text": [
      "Erreur de classification est de: 0.08\n"
     ]
    }
   ],
   "source": [
    "y_pred = model.predict(X_test)\n",
    "accuracy = accuracy_score(y_test, y_pred)\n",
    "error = 1 - accuracy\n",
    "\n",
    "print(f'Erreur de classification est de: {error:.2f}')"
   ]
  },
  {
   "attachments": {},
   "cell_type": "markdown",
   "metadata": {},
   "source": [
    "Le code Suivant crée un graphe circulaire avec deux sections: une pour la précision et une pour l’erreur. Les pourcentages sont affichés sur le graphe pour indiquer la proportion de chaque section."
   ]
  },
  {
   "cell_type": "code",
   "execution_count": 26,
   "metadata": {},
   "outputs": [
    {
     "data": {
      "image/png": "[encoded data removed]",
      "text/plain": [
       "<Figure size 640x480 with 1 Axes>"
      ]
     },
     "metadata": {},
     "output_type": "display_data"
    }
   ],
   "source": [
    "# Création des données pour le graphe circulaire\n",
    "data = [accuracy, error]\n",
    "labels = ['Précision', 'Erreur']\n",
    "\n",
    "# Création du graphe circulaire\n",
    "fig, ax = plt.subplots()\n",
    "ax.pie(data, labels=labels, autopct='%1.1f%%')\n",
    "ax.axis('equal')\n",
    "\n",
    "# Affichage du graphe\n",
    "plt.show()"
   ]
  },
  {
   "attachments": {},
   "cell_type": "markdown",
   "metadata": {},
   "source": [
    "Ce code utilise la méthode **accuracy_score de scikit-learn** pour calculer la précision du modèle sur les données de test. L’erreur de classification est ensuite calculée en soustrayant la précision de 1. Le résultat est ensuite affiché.\n",
    "## Interpretation du resultat\n",
    "* D’après le résultat que vous avez fourni, il semble que le modèle ait une erreur de classification de 0.06 sur les données de test. Cela signifie que le modèle a mal classé 6% des observations. En d’autres termes, la précision du modèle sur les données de test est de 94%.\n",
    "**Le resultat depend de chaque exécussion**"
   ]
  },
  {
   "cell_type": "code",
   "execution_count": 27,
   "metadata": {},
   "outputs": [
    {
     "name": "stdout",
     "output_type": "stream",
     "text": [
      "Best parameters: {'C': 1, 'gamma': 0.1}\n",
      "Best cross-validation score: 0.87\n"
     ]
    }
   ],
   "source": [
    "param_grid = {'C': [0.1, 1, 10], 'gamma': [0.1, 1, 10]}\n",
    "grid_search = GridSearchCV(SVC(), param_grid, cv=5)\n",
    "grid_search.fit(X_train, y_train)\n",
    "\n",
    "best_params = grid_search.best_params_\n",
    "best_score = grid_search.best_score_\n",
    "\n",
    "print(f'Best parameters: {best_params}')\n",
    "print(f'Best cross-validation score: {best_score:.2f}')\n"
   ]
  },
  {
   "attachments": {},
   "cell_type": "markdown",
   "metadata": {},
   "source": [
    "Ce code utilise **la classe GridSearchCV de scikit-learn** pour effectuer une recherche sur grille des meilleurs hyperparamètres pour un modèle SVC. La recherche est effectuée sur une grille d’hyperparamètres définie par param_grid et utilise la validation croisée avec 5 plis. Les meilleurs hyperparamètres et le meilleur score de validation croisée sont ensuite affichés.\n",
    "## interpretation du resultat\n",
    "**D’après les résultats, il semble que la recherche sur grille ait trouvé que les meilleurs hyperparamètres pour le modèle SVC sont C=1 et gamma=0.1. Le meilleur score de validation croisée obtenu avec ces hyperparamètres est de 0.86.**\n",
    "\n",
    "**Cela signifie que, en utilisant ces hyperparamètres, le modèle SVC a obtenu une précision moyenne de 86% sur les 5 plis de la validation croisée. Cela peut être considéré comme une bonne performance, mais cela dépend du contexte et des objectifs spécifiques du projet. Il est également important de noter que la validation croisée fournit une estimation de l’erreur de généralisation du modèle, mais que les performances réelles du modèle sur de nouvelles données peuvent être différentes.**"
   ]
  },
  {
   "cell_type": "code",
   "execution_count": 28,
   "metadata": {},
   "outputs": [
    {
     "name": "stdout",
     "output_type": "stream",
     "text": [
      "Test accuracy: 0.92\n"
     ]
    }
   ],
   "source": [
    "model = SVC(C=1, gamma=0.1)\n",
    "model.fit(X_train, y_train)\n",
    "\n",
    "y_pred = model.predict(X_test)\n",
    "accuracy = accuracy_score(y_test, y_pred)\n",
    "\n",
    "print(f'Test accuracy: {accuracy:.2f}')\n"
   ]
  },
  {
   "attachments": {},
   "cell_type": "markdown",
   "metadata": {},
   "source": [
    "Ce code entraîne un modèle SVC avec les hyperparamètres C=1 et gamma=0.1 sur les données d’entraînement X_train et y_train. Ensuite, il utilise le modèle entraîné pour prédire les classes des observations dans les données de test X_test. La précision du modèle sur les données de test est ensuite calculée en utilisant la méthode accuracy_score de scikit-learn et affichée.\n",
    "\n",
    "Cet exemple montre comment évaluer les performances réelles d’un modèle sur des données de test. Cependant, il est important de noter que les performances réelles du modèle peuvent varier en fonction des données de test utilisées et que les résultats obtenus avec un ensemble de données de test ne sont pas nécessairement représentatifs des performances du modèle sur toutes les nouvelles données.\n",
    "## interpretation de resultat\n",
    "**D’après le résultat que vous avez fourni, il semble que le modèle SVC avec les hyperparamètres C=1 et gamma=0.1 ait une précision de 92% sur les données de test. Cela signifie que le modèle a correctement classé 92% des observations dans les données de test.**\n",
    "\n",
    "**Cela peut être considéré comme une bonne performance, mais cela dépend du contexte et des objectifs spécifiques du projet.**"
   ]
  },
  {
   "attachments": {},
   "cell_type": "markdown",
   "metadata": {},
   "source": [
    "# recapitulatif\n",
    "* D’après les résultats, il semble que le modèle ait une erreur de classification de 0.06 sur les données de test, ce qui signifie que le modèle a mal classé 6% des observations. En d’autres termes, la précision du modèle sur les données de test est de 94%.\n",
    "\n",
    "* La recherche sur grille a trouvé que les meilleurs hyperparamètres pour le modèle sont C=1 et gamma=0.1, et le meilleur score de validation croisée obtenu avec ces hyperparamètres est de 0.86. Cela signifie que, en utilisant ces hyperparamètres, le modèle a obtenu une précision moyenne de 86% sur les 5 plis de la validation croisée.\n",
    "\n",
    "* Enfin, la précision du modèle sur les données de test est de 0.92, ce qui signifie que le modèle a correctement classé 92% des observations dans les données de test.\n",
    "\n",
    "Ces résultats suggèrent que le modèle a de bonnes performances pour la prédiction de la classification des personnes saines et malades. Cependant, sans plus d’informations sur les données et le contexte du problème, il est difficile de dire si ces performances sont suffisantes ou non. Il est donc important d’évaluer les performances du modèle en fonction des objectifs spécifiques du projet."
   ]
  },
  {
   "attachments": {},
   "cell_type": "markdown",
   "metadata": {},
   "source": [
    "## Conclusion\n",
    "Comme la précision de notre modèle est de 92,4%, l'erreur de 7,6%, le rappel est de 0.95 et le score F1 de 0.94, cela indique que notre modèle a une bonne performance sur les données de test.\n",
    "\n",
    "**La précision** mesure la proportion de vrais positifs parmi les exemples prédits positifs. Dans notre cas, cela signifie que lorsque notre modèle prédit une classe positive, il a raison de 92% du temps.\n",
    "\n",
    "**Le rappel** mesure la proportion de vrais positifs parmi les exemples réellement positifs. Dans notre cas, cela signifie que notre modèle identifie correctement 95% des exemples positifs.\n",
    "\n",
    "**Le score F1** est la moyenne harmonique de la précision et du rappel. Un score F1 élevé indique que notre modèle a une bonne précision et un bon rappel.\n",
    "\n",
    "En général, ces résultats indiquent que notre modèle a une bonne capacité à prédire correctement les exemples positifs et à identifier la plupart des exemples positifs dans les données de test."
   ]
  }
 ],
 "metadata": {
  "kernelspec": {
   "display_name": "Python 3",
   "language": "python",
   "name": "python3"
  },
  "language_info": {
   "codemirror_mode": {
    "name": "ipython",
    "version": 3
   },
   "file_extension": ".py",
   "mimetype": "text/x-python",
   "name": "python",
   "nbconvert_exporter": "python",
   "pygments_lexer": "ipython3",
   "version": "3.11.0"
  },
  "orig_nbformat": 4
 },
 "nbformat": 4,
 "nbformat_minor": 2
}
